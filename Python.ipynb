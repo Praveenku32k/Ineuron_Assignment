{
 "cells": [
  {
   "cell_type": "markdown",
   "id": "5ff5f791",
   "metadata": {},
   "source": [
    "Question: 1\n",
    "Write an efficient algorithm that searches for a value target in an m x n integer matrix. This matrix has the following properties:\n",
    "\n",
    "Integers in each row are sorted from right to left.\n",
    "\n",
    "The first integer of each row is greater than the last integer of the previous row.\n",
    "\n",
    "                              Example-: \n",
    "\n",
    "                                        Input: matrix = [[1,3,5,7],[10,11,16,20],[23,30,34,60]], target = 3\n",
    "\n",
    "                                         Output: True"
   ]
  },
  {
   "cell_type": "code",
   "execution_count": 2,
   "id": "47f10091",
   "metadata": {},
   "outputs": [
    {
     "name": "stdout",
     "output_type": "stream",
     "text": [
      "True\n"
     ]
    }
   ],
   "source": [
    "# Defining a function named search_matrix \n",
    "\n",
    "def Search_Matrix(mat, target):\n",
    "    # Check if the matrix is empty or the first row is empty.\n",
    "    if not mat or not mat[0]:\n",
    "        return False\n",
    "\n",
    "    # Get the number of rows and columns in the matrix.\n",
    "    rows, cols = len(mat), len(mat[0])\n",
    "\n",
    "    # Initialize the left and right pointers for binary search.\n",
    "    left, right = 0, rows * cols - 1\n",
    "\n",
    "    # Perform binary search while the left pointer is less than or equal to the right pointer.\n",
    "    while left <= right:\n",
    "        # Calculate the mid index and extract the value at that position in the flattened matrix.\n",
    "        mid = (left + right) // 2\n",
    "        mid_value = mat[mid // cols][mid % cols]\n",
    "\n",
    "        # Check if the mid_value is equal to the target.\n",
    "        if mid_value == target:\n",
    "            # If equal, return True as the target is found.\n",
    "            return True\n",
    "        # If mid_value is less than the target, adjust the search space to the right.\n",
    "        elif mid_value < target:\n",
    "            left = mid + 1\n",
    "        # If mid_value is greater than the target, adjust the search space to the left.\n",
    "        else:\n",
    "            right = mid - 1\n",
    "\n",
    "    # If the while loop completes without finding the target, return False.\n",
    "    return False\n",
    "\n",
    "# Example Usage:\n",
    "# Define a 2D matrix and a target value.\n",
    "matrix = [[1, 3, 5, 7], [10, 11, 16, 20], [23, 30, 34, 60]]\n",
    "target = 3\n",
    "\n",
    "# Call the search_matrix function with the given matrix and target.\n",
    "result = search_matrix(matrix, target)\n",
    "\n",
    "# Print the result of the search.\n",
    "print(result)  # Output: True\n"
   ]
  },
  {
   "cell_type": "markdown",
   "id": "852e2104",
   "metadata": {},
   "source": [
    "Question: 2\n",
    "\n",
    "2.  Write a program that takes a string as input, and counts the frequency of each word in the string, there might  be repeated characters in the string. Your task is to find the highest frequency and returns the length of the  highest-frequency word. \n",
    "\n",
    "Note - You have to write at least 2 additional test cases in which your program will run successfully and provide  an explanation for the same.  \n",
    "\n",
    "Example input - string = “write write write all the number from from from 1 to 100” \n",
    "\n",
    "Example output - 5 \n",
    "\n",
    "Explanation - From the given string we can note that the most frequent words are “write” and “from” and  the maximum value of both the values is “write” and its corresponding length is 5 "
   ]
  },
  {
   "cell_type": "code",
   "execution_count": 3,
   "id": "0a9b3399",
   "metadata": {},
   "outputs": [
    {
     "name": "stdout",
     "output_type": "stream",
     "text": [
      "5\n"
     ]
    }
   ],
   "source": [
    "# Define a class named WordFrequencyCounter \n",
    "class WordFrequencyCounter:\n",
    "    # Constructor method to initialize the instance with an input string and an empty word frequency dictionary.\n",
    "    def __init__(self, input_string):\n",
    "        self.input_string = input_string\n",
    "        self.word_frequency = {}\n",
    "\n",
    "    # Method to count the frequency of each word in the input string and store it in the word_frequency dictionary.\n",
    "    def count_word_frequency(self):\n",
    "        # Split the input string into a list of words.\n",
    "        words = self.input_string.split()\n",
    "        # Iterate through each word and update its frequency in the dictionary.\n",
    "        for word in words:\n",
    "            self.word_frequency[word] = self.word_frequency.get(word, 0) + 1\n",
    "\n",
    "    # Method to find the length of the highest-frequency word.\n",
    "    def highest_frequency_word_length(self):\n",
    "        # Check if the word_frequency dictionary is empty.\n",
    "        if not self.word_frequency:\n",
    "            return 0\n",
    "\n",
    "        # Find the word with the highest frequency using the max function and its length.\n",
    "        most_frequent_word = max(self.word_frequency, key=self.word_frequency.get)\n",
    "        return len(most_frequent_word)\n",
    "\n",
    "# Example Usage:\n",
    "# Create an instance of WordFrequencyCounter with the input string.\n",
    "input_string = \"write write write all the number from from from 1 to 100\"\n",
    "word_counter = WordFrequencyCounter(input_string)\n",
    "\n",
    "# Call the count_word_frequency method to populate the word_frequency dictionary.\n",
    "word_counter.count_word_frequency()\n",
    "\n",
    "# Call the highest_frequency_word_length method to get the length of the highest-frequency word.\n",
    "output = word_counter.highest_frequency_word_length()\n",
    "\n",
    "# Print the result.\n",
    "print(output)  # Output: 5\n"
   ]
  },
  {
   "cell_type": "code",
   "execution_count": null,
   "id": "f635798f",
   "metadata": {},
   "outputs": [],
   "source": []
  }
 ],
 "metadata": {
  "kernelspec": {
   "display_name": "Python 3 (ipykernel)",
   "language": "python",
   "name": "python3"
  },
  "language_info": {
   "codemirror_mode": {
    "name": "ipython",
    "version": 3
   },
   "file_extension": ".py",
   "mimetype": "text/x-python",
   "name": "python",
   "nbconvert_exporter": "python",
   "pygments_lexer": "ipython3",
   "version": "3.10.9"
  }
 },
 "nbformat": 4,
 "nbformat_minor": 5
}
